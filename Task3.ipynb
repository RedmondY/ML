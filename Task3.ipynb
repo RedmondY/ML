{
 "cells": [
  {
   "cell_type": "markdown",
   "metadata": {},
   "source": [
    "# Task3 学习内容"
   ]
  },
  {
   "cell_type": "markdown",
   "metadata": {},
   "source": [
    "1. 信息论基础  \n",
    "  \n",
    "熵   \n",
    "熵指内部的混乱程度，种类越多，熵越大，分类效果不好。   \n",
    "\n",
    "联合熵   \n",
    "联合符号集合XY上的联合自信息量的数学期望   \n",
    "\n",
    "条件熵   \n",
    "在联合符号集合XY上的条件自信息量的数学期望   \n",
    "\n",
    "信息增益   \n",
    "举个例子，对一个事件进行分类，分别计算分类前、分类后的熵，然后前面的减去后面得到的值就是信息增益。最后选择信息增益最大的最为根节点。   \n",
    "\n",
    "基尼不纯度   \n",
    "将来自集合中的某种结果随机应用在集合中，某一个数据项的预期误差率。   \n"
   ]
  },
  {
   "cell_type": "markdown",
   "metadata": {},
   "source": [
    "2. 决策树的不同分类算法（ID3算法、C4.5、CART分类树）的原理及应用场景\n",
    "\n",
    "ID3算法：  \n",
    "原理：信息增益。在每个节点选取还尚未被用来划分的具有最高信息增益的属性作为划分标准，然后继续这个过程，直到生成的决策树能完美分类训练样例。  \n",
    "应用场景：计算时间是例子个数、特征属性个数、节点个数之积的线性函数  \n",
    "\n",
    "\n",
    "C4.5（ID3的扩展）：信息增益率、连续属性处理、决策树剪枝  \n",
    " \n",
    "CART算法  \n",
    "原理：采用一种二分递归分割的技术，与基于信息熵的算法不同，CART算法对每次样本集的划分计算GINI系数， GINI系数越小则划分越合理\n"
   ]
  },
  {
   "cell_type": "markdown",
   "metadata": {},
   "source": [
    "3. 回归树原理\n",
    "\n",
    "![avatar](task3_1.png) "
   ]
  },
  {
   "cell_type": "markdown",
   "metadata": {},
   "source": [
    "4. 决策树防止过拟合手段  \n",
    "\n",
    "产生过拟合的原因有样本问题、构建决策树的方法问题。  \n",
    "方法：针对第一个，合理、有效的抽样，用相对能够反映业务逻辑的训练集去产生决策树；针对第二个，剪枝（提前停止树的增长或者对已经生成的树按照一定的规则进行后剪枝）  "
   ]
  },
  {
   "cell_type": "markdown",
   "metadata": {},
   "source": [
    "5. 模型评估  \n",
    "\n",
    "评估指标有分类准确度、召回率、虚警率和精确度等。而这些指标都是基于混淆矩阵 (confusion matrix) 进行计算的。\n",
    "混淆矩阵是用来评价监督式学习模型的精确性，矩阵的每一列代表一个类的实例预测，而每一行表示一个实际的类的实例。\n",
    "评估方法有保留法、随机二次抽样、交叉验证和自助法等"
   ]
  },
  {
   "cell_type": "markdown",
   "metadata": {},
   "source": [
    "6. sklearn参数详解，Python绘制决策树\n",
    "\n",
    "[链接](https://cloud.tencent.com/developer/article/1146079)"
   ]
  },
  {
   "cell_type": "markdown",
   "metadata": {},
   "source": []
  },
  {
   "cell_type": "markdown",
   "metadata": {},
   "source": []
  }
 ],
 "metadata": {
  "kernelspec": {
   "display_name": "Python 3",
   "language": "python",
   "name": "python3"
  },
  "language_info": {
   "codemirror_mode": {
    "name": "ipython",
    "version": 3
   },
   "file_extension": ".py",
   "mimetype": "text/x-python",
   "name": "python",
   "nbconvert_exporter": "python",
   "pygments_lexer": "ipython3",
   "version": "3.6.6"
  }
 },
 "nbformat": 4,
 "nbformat_minor": 2
}
